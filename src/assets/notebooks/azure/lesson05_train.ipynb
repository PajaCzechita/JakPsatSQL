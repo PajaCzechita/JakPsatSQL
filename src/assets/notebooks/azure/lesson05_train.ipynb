{
    "metadata": {
        "kernelspec": {
            "name": "SQL",
            "display_name": "SQL",
            "language": "sql"
        },
        "language_info": {
            "name": "sql",
            "version": ""
        }
    },
    "nbformat_minor": 2,
    "nbformat": 4,
    "cells": [
        {
            "cell_type": "markdown",
            "source": [
                "Úkol první, vyberte jeden řádek, všechny sloupečky"
            ],
            "metadata": {
                "azdata_cell_guid": "c369bf25-cd35-4f31-9cf9-e76b530424ba"
            }
        },
        {
            "cell_type": "code",
            "source": [
                "SELECT TOP 1 * FROM TEROR;"
            ],
            "metadata": {
                "azdata_cell_guid": "6db6a188-5542-41b8-8a54-e238533512b2"
            },
            "outputs": [],
            "execution_count": null
        },
        {
            "cell_type": "markdown",
            "source": [
                "Druhý úkol\n",
                "\n",
                "- s odrážkami\n",
                "- viď"
            ],
            "metadata": {
                "azdata_cell_guid": "3bd66618-8fab-452b-8069-af6eeade228d",
                "language": "markdown"
            }
        },
        {
            "cell_type": "code",
            "source": [
                "SELECT 1;   -- vybere 1\n",
                "SELECT '1'; -- vybere '1'"
            ],
            "metadata": {
                "azdata_cell_guid": "ebad57ed-d2d4-4e60-bf83-7d9c3890a309",
                "tags": [
                    "hide_input"
                ]
            },
            "outputs": [],
            "execution_count": null
        },
        {
            "cell_type": "markdown",
            "source": [
                "A třetí, extra krátký"
            ],
            "metadata": {
                "azdata_cell_guid": "e33c91ee-6a44-4473-84af-99a4e62aa01d"
            }
        },
        {
            "cell_type": "code",
            "source": [
                "SELECT 25 * 30; -- 750\n",
                "SELECT 25 * 0;  -- 0\n",
                "SELECT 25 / 2.5; -- 10.0\n",
                "SELECT 25/0; -- division by zero"
            ],
            "metadata": {
                "azdata_cell_guid": "7af01d21-146a-46b2-b954-83e5f3d4aa78",
                "tags": []
            },
            "outputs": [],
            "execution_count": null
        },
        {
            "cell_type": "markdown",
            "source": [
                "Nekonečně moc úkolů"
            ],
            "metadata": {
                "azdata_cell_guid": "87a82a44-1f8d-4e85-bbd5-18d96a0225ba"
            }
        },
        {
            "cell_type": "code",
            "source": [
                "SELECT * FROM teror; -- vybere vsechny sloupce a radky z tabulky teror"
            ],
            "metadata": {
                "azdata_cell_guid": "e5f1f5f9-936e-4cab-b3b0-d0b1d36997da"
            },
            "outputs": [],
            "execution_count": null
        },
        {
            "cell_type": "markdown",
            "source": [
                "_huj_ nejakej **text**\n",
                "\n",
                "### huip\n",
                "\n",
                "- ok\n",
                "    - dkdk\n",
                "    - d e r t\n",
                "- oi k sjisjd djd s\n",
                "\n",
                "# nadpis\n",
                "\n",
                "```\n",
                "this is some code\n",
                "on two lines\n",
                "nebo na trech? nechapu\n",
                "```"
            ],
            "metadata": {
                "azdata_cell_guid": "fb0d2531-5714-4fc3-8768-a3afc3ba25b3"
            }
        },
        {
            "cell_type": "code",
            "source": [
                "--prazdny kod"
            ],
            "metadata": {
                "azdata_cell_guid": "67ade728-e81e-4270-b749-f32eadbe18b7"
            },
            "outputs": [],
            "execution_count": null
        }
    ]
}